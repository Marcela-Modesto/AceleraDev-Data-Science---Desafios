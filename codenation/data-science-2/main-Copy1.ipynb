{
 "cells": [
  {
   "cell_type": "markdown",
   "metadata": {},
   "source": [
    "# Desafio 4\n",
    "\n",
    "Neste desafio, vamos praticar um pouco sobre testes de hipóteses. Utilizaremos o _data set_ [2016 Olympics in Rio de Janeiro](https://www.kaggle.com/rio2016/olympic-games/), que contém dados sobre os atletas das Olimpíadas de 2016 no Rio de Janeiro.\n",
    "\n",
    "Esse _data set_ conta com informações gerais sobre 11538 atletas como nome, nacionalidade, altura, peso e esporte praticado. Estaremos especialmente interessados nas variáveis numéricas altura (`height`) e peso (`weight`). As análises feitas aqui são parte de uma Análise Exploratória de Dados (EDA).\n",
    "\n",
    "> Obs.: Por favor, não modifique o nome das funções de resposta."
   ]
  },
  {
   "cell_type": "markdown",
   "metadata": {},
   "source": [
    "## _Setup_ geral"
   ]
  },
  {
   "cell_type": "code",
   "execution_count": 1,
   "metadata": {},
   "outputs": [],
   "source": [
    "import pandas as pd\n",
    "import matplotlib.pyplot as plt\n",
    "import numpy as np\n",
    "import scipy.stats as sct\n",
    "import seaborn as sns"
   ]
  },
  {
   "cell_type": "code",
   "execution_count": 2,
   "metadata": {},
   "outputs": [],
   "source": [
    "#%matplotlib inline\n",
    "\n",
    "#from IPython.core.pylabtools import figsize\n",
    "\n",
    "\n",
    "#figsize(12, 8)\n",
    "\n",
    "#sns.set()"
   ]
  },
  {
   "cell_type": "code",
   "execution_count": 3,
   "metadata": {},
   "outputs": [],
   "source": [
    "athletes = pd.read_csv(\"athletes.csv\")"
   ]
  },
  {
   "cell_type": "code",
   "execution_count": 4,
   "metadata": {},
   "outputs": [],
   "source": [
    "def get_sample(df, col_name, n=100, seed=42):\n",
    "    \"\"\"Get a sample from a column of a dataframe.\n",
    "    \n",
    "    It drops any numpy.nan entries before sampling. The sampling\n",
    "    is performed without replacement.\n",
    "    \n",
    "    Example of numpydoc for those who haven't seen yet.\n",
    "    \n",
    "    Parameters\n",
    "    ----------\n",
    "    df : pandas.DataFrame\n",
    "        Source dataframe.\n",
    "    col_name : str\n",
    "        Name of the column to be sampled.\n",
    "    n : int\n",
    "        Sample size. Default is 100.\n",
    "    seed : int\n",
    "        Random seed. Default is 42.\n",
    "    \n",
    "    Returns\n",
    "    -------\n",
    "    pandas.Series\n",
    "        Sample of size n from dataframe's column.\n",
    "    \"\"\"\n",
    "    np.random.seed(seed)\n",
    "    \n",
    "    random_idx = np.random.choice(df[col_name].dropna().index, size=n, replace=False)\n",
    "    \n",
    "    return df.loc[random_idx, col_name]"
   ]
  },
  {
   "cell_type": "markdown",
   "metadata": {},
   "source": [
    "## Inicia sua análise a partir daqui"
   ]
  },
  {
   "cell_type": "code",
   "execution_count": 13,
   "metadata": {
    "scrolled": true
   },
   "outputs": [
    {
     "data": {
      "text/plain": [
       "1811     1.79\n",
       "7962     1.81\n",
       "10280    1.83\n",
       "317      1.68\n",
       "6989     2.01\n",
       "         ... \n",
       "1483     1.75\n",
       "2586     1.78\n",
       "2949     1.60\n",
       "10268    1.75\n",
       "5892     1.76\n",
       "Name: height, Length: 3000, dtype: float64"
      ]
     },
     "execution_count": 13,
     "metadata": {},
     "output_type": "execute_result"
    }
   ],
   "source": [
    "# Sua análise começa aqui.\n",
    "s = get_sample(athletes, 'height', n=3000)\n",
    "s"
   ]
  },
  {
   "cell_type": "code",
   "execution_count": 15,
   "metadata": {},
   "outputs": [],
   "source": [
    "#Shapiro Wilk test\n",
    "sh_stat, sh_pval = sct.shapiro(s)"
   ]
  },
  {
   "cell_type": "code",
   "execution_count": 16,
   "metadata": {},
   "outputs": [
    {
     "data": {
      "text/plain": [
       "0.9961519837379456"
      ]
     },
     "execution_count": 16,
     "metadata": {},
     "output_type": "execute_result"
    }
   ],
   "source": [
    "sh_stat"
   ]
  },
  {
   "cell_type": "code",
   "execution_count": 18,
   "metadata": {},
   "outputs": [
    {
     "data": {
      "text/plain": [
       "5.681722541339695e-07"
      ]
     },
     "execution_count": 18,
     "metadata": {},
     "output_type": "execute_result"
    }
   ],
   "source": [
    "sh_pval"
   ]
  },
  {
   "cell_type": "code",
   "execution_count": 19,
   "metadata": {},
   "outputs": [
    {
     "data": {
      "text/plain": [
       "False"
      ]
     },
     "execution_count": 19,
     "metadata": {},
     "output_type": "execute_result"
    }
   ],
   "source": [
    "sh_pval > .05"
   ]
  },
  {
   "cell_type": "code",
   "execution_count": 20,
   "metadata": {},
   "outputs": [],
   "source": [
    "brazil = athletes.query('nationality == \"BRA\"')"
   ]
  },
  {
   "cell_type": "code",
   "execution_count": 21,
   "metadata": {
    "scrolled": false
   },
   "outputs": [
    {
     "data": {
      "text/html": [
       "<div>\n",
       "<style scoped>\n",
       "    .dataframe tbody tr th:only-of-type {\n",
       "        vertical-align: middle;\n",
       "    }\n",
       "\n",
       "    .dataframe tbody tr th {\n",
       "        vertical-align: top;\n",
       "    }\n",
       "\n",
       "    .dataframe thead th {\n",
       "        text-align: right;\n",
       "    }\n",
       "</style>\n",
       "<table border=\"1\" class=\"dataframe\">\n",
       "  <thead>\n",
       "    <tr style=\"text-align: right;\">\n",
       "      <th></th>\n",
       "      <th>id</th>\n",
       "      <th>name</th>\n",
       "      <th>nationality</th>\n",
       "      <th>sex</th>\n",
       "      <th>dob</th>\n",
       "      <th>height</th>\n",
       "      <th>weight</th>\n",
       "      <th>sport</th>\n",
       "      <th>gold</th>\n",
       "      <th>silver</th>\n",
       "      <th>bronze</th>\n",
       "    </tr>\n",
       "  </thead>\n",
       "  <tbody>\n",
       "    <tr>\n",
       "      <th>79</th>\n",
       "      <td>236523132</td>\n",
       "      <td>Adam Imer</td>\n",
       "      <td>BRA</td>\n",
       "      <td>male</td>\n",
       "      <td>8/18/89</td>\n",
       "      <td>1.82</td>\n",
       "      <td>88.0</td>\n",
       "      <td>hockey</td>\n",
       "      <td>0</td>\n",
       "      <td>0</td>\n",
       "      <td>0</td>\n",
       "    </tr>\n",
       "    <tr>\n",
       "      <th>106</th>\n",
       "      <td>993710181</td>\n",
       "      <td>Adenizia da Silva</td>\n",
       "      <td>BRA</td>\n",
       "      <td>female</td>\n",
       "      <td>12/18/86</td>\n",
       "      <td>1.87</td>\n",
       "      <td>65.0</td>\n",
       "      <td>volleyball</td>\n",
       "      <td>0</td>\n",
       "      <td>0</td>\n",
       "      <td>0</td>\n",
       "    </tr>\n",
       "    <tr>\n",
       "      <th>109</th>\n",
       "      <td>930618704</td>\n",
       "      <td>Adilson da Silva</td>\n",
       "      <td>BRA</td>\n",
       "      <td>male</td>\n",
       "      <td>1/24/72</td>\n",
       "      <td>1.70</td>\n",
       "      <td>79.0</td>\n",
       "      <td>golf</td>\n",
       "      <td>0</td>\n",
       "      <td>0</td>\n",
       "      <td>0</td>\n",
       "    </tr>\n",
       "    <tr>\n",
       "      <th>114</th>\n",
       "      <td>787208883</td>\n",
       "      <td>Adrian Baches</td>\n",
       "      <td>BRA</td>\n",
       "      <td>male</td>\n",
       "      <td>4/7/90</td>\n",
       "      <td>1.84</td>\n",
       "      <td>83.0</td>\n",
       "      <td>aquatics</td>\n",
       "      <td>0</td>\n",
       "      <td>0</td>\n",
       "      <td>0</td>\n",
       "    </tr>\n",
       "    <tr>\n",
       "      <th>128</th>\n",
       "      <td>80367651</td>\n",
       "      <td>Adriana Aparecida da Silva</td>\n",
       "      <td>BRA</td>\n",
       "      <td>female</td>\n",
       "      <td>7/22/81</td>\n",
       "      <td>1.66</td>\n",
       "      <td>52.0</td>\n",
       "      <td>athletics</td>\n",
       "      <td>0</td>\n",
       "      <td>0</td>\n",
       "      <td>0</td>\n",
       "    </tr>\n",
       "    <tr>\n",
       "      <th>...</th>\n",
       "      <td>...</td>\n",
       "      <td>...</td>\n",
       "      <td>...</td>\n",
       "      <td>...</td>\n",
       "      <td>...</td>\n",
       "      <td>...</td>\n",
       "      <td>...</td>\n",
       "      <td>...</td>\n",
       "      <td>...</td>\n",
       "      <td>...</td>\n",
       "      <td>...</td>\n",
       "    </tr>\n",
       "    <tr>\n",
       "      <th>11052</th>\n",
       "      <td>9403852</td>\n",
       "      <td>Xavier Vela Maggi</td>\n",
       "      <td>BRA</td>\n",
       "      <td>male</td>\n",
       "      <td>8/7/89</td>\n",
       "      <td>1.78</td>\n",
       "      <td>71.0</td>\n",
       "      <td>rowing</td>\n",
       "      <td>0</td>\n",
       "      <td>0</td>\n",
       "      <td>0</td>\n",
       "    </tr>\n",
       "    <tr>\n",
       "      <th>11136</th>\n",
       "      <td>599927932</td>\n",
       "      <td>Yane Marcia Marques</td>\n",
       "      <td>BRA</td>\n",
       "      <td>female</td>\n",
       "      <td>1/7/84</td>\n",
       "      <td>1.66</td>\n",
       "      <td>55.0</td>\n",
       "      <td>modern pentathlon</td>\n",
       "      <td>0</td>\n",
       "      <td>0</td>\n",
       "      <td>0</td>\n",
       "    </tr>\n",
       "    <tr>\n",
       "      <th>11228</th>\n",
       "      <td>586074732</td>\n",
       "      <td>Ygor Coelho de Oliveira</td>\n",
       "      <td>BRA</td>\n",
       "      <td>male</td>\n",
       "      <td>11/24/96</td>\n",
       "      <td>1.83</td>\n",
       "      <td>78.0</td>\n",
       "      <td>badminton</td>\n",
       "      <td>0</td>\n",
       "      <td>0</td>\n",
       "      <td>0</td>\n",
       "    </tr>\n",
       "    <tr>\n",
       "      <th>11404</th>\n",
       "      <td>409923311</td>\n",
       "      <td>Yuri van der Heijden</td>\n",
       "      <td>BRA</td>\n",
       "      <td>male</td>\n",
       "      <td>7/20/90</td>\n",
       "      <td>1.78</td>\n",
       "      <td>76.0</td>\n",
       "      <td>hockey</td>\n",
       "      <td>0</td>\n",
       "      <td>0</td>\n",
       "      <td>0</td>\n",
       "    </tr>\n",
       "    <tr>\n",
       "      <th>11457</th>\n",
       "      <td>879954351</td>\n",
       "      <td>Zeca</td>\n",
       "      <td>BRA</td>\n",
       "      <td>male</td>\n",
       "      <td>5/16/94</td>\n",
       "      <td>1.70</td>\n",
       "      <td>69.0</td>\n",
       "      <td>football</td>\n",
       "      <td>1</td>\n",
       "      <td>0</td>\n",
       "      <td>0</td>\n",
       "    </tr>\n",
       "  </tbody>\n",
       "</table>\n",
       "<p>485 rows × 11 columns</p>\n",
       "</div>"
      ],
      "text/plain": [
       "              id                        name nationality     sex       dob  \\\n",
       "79     236523132                   Adam Imer         BRA    male   8/18/89   \n",
       "106    993710181           Adenizia da Silva         BRA  female  12/18/86   \n",
       "109    930618704            Adilson da Silva         BRA    male   1/24/72   \n",
       "114    787208883               Adrian Baches         BRA    male    4/7/90   \n",
       "128     80367651  Adriana Aparecida da Silva         BRA  female   7/22/81   \n",
       "...          ...                         ...         ...     ...       ...   \n",
       "11052    9403852           Xavier Vela Maggi         BRA    male    8/7/89   \n",
       "11136  599927932         Yane Marcia Marques         BRA  female    1/7/84   \n",
       "11228  586074732     Ygor Coelho de Oliveira         BRA    male  11/24/96   \n",
       "11404  409923311        Yuri van der Heijden         BRA    male   7/20/90   \n",
       "11457  879954351                        Zeca         BRA    male   5/16/94   \n",
       "\n",
       "       height  weight              sport  gold  silver  bronze  \n",
       "79       1.82    88.0             hockey     0       0       0  \n",
       "106      1.87    65.0         volleyball     0       0       0  \n",
       "109      1.70    79.0               golf     0       0       0  \n",
       "114      1.84    83.0           aquatics     0       0       0  \n",
       "128      1.66    52.0          athletics     0       0       0  \n",
       "...       ...     ...                ...   ...     ...     ...  \n",
       "11052    1.78    71.0             rowing     0       0       0  \n",
       "11136    1.66    55.0  modern pentathlon     0       0       0  \n",
       "11228    1.83    78.0          badminton     0       0       0  \n",
       "11404    1.78    76.0             hockey     0       0       0  \n",
       "11457    1.70    69.0           football     1       0       0  \n",
       "\n",
       "[485 rows x 11 columns]"
      ]
     },
     "execution_count": 21,
     "metadata": {},
     "output_type": "execute_result"
    }
   ],
   "source": [
    "brazil"
   ]
  },
  {
   "cell_type": "code",
   "execution_count": 25,
   "metadata": {},
   "outputs": [],
   "source": [
    "USa = athletes.query('nationality == \"USA\"')"
   ]
  },
  {
   "cell_type": "code",
   "execution_count": 23,
   "metadata": {},
   "outputs": [],
   "source": [
    "canada = athletes.query(\"nationality == 'CAN'\")"
   ]
  },
  {
   "cell_type": "code",
   "execution_count": 24,
   "metadata": {},
   "outputs": [
    {
     "data": {
      "text/html": [
       "<div>\n",
       "<style scoped>\n",
       "    .dataframe tbody tr th:only-of-type {\n",
       "        vertical-align: middle;\n",
       "    }\n",
       "\n",
       "    .dataframe tbody tr th {\n",
       "        vertical-align: top;\n",
       "    }\n",
       "\n",
       "    .dataframe thead th {\n",
       "        text-align: right;\n",
       "    }\n",
       "</style>\n",
       "<table border=\"1\" class=\"dataframe\">\n",
       "  <thead>\n",
       "    <tr style=\"text-align: right;\">\n",
       "      <th></th>\n",
       "      <th>id</th>\n",
       "      <th>name</th>\n",
       "      <th>nationality</th>\n",
       "      <th>sex</th>\n",
       "      <th>dob</th>\n",
       "      <th>height</th>\n",
       "      <th>weight</th>\n",
       "      <th>sport</th>\n",
       "      <th>gold</th>\n",
       "      <th>silver</th>\n",
       "      <th>bronze</th>\n",
       "    </tr>\n",
       "  </thead>\n",
       "  <tbody>\n",
       "    <tr>\n",
       "      <th>2</th>\n",
       "      <td>435962603</td>\n",
       "      <td>Aaron Brown</td>\n",
       "      <td>CAN</td>\n",
       "      <td>male</td>\n",
       "      <td>5/27/92</td>\n",
       "      <td>1.98</td>\n",
       "      <td>79.0</td>\n",
       "      <td>athletics</td>\n",
       "      <td>0</td>\n",
       "      <td>0</td>\n",
       "      <td>1</td>\n",
       "    </tr>\n",
       "    <tr>\n",
       "      <th>77</th>\n",
       "      <td>136977152</td>\n",
       "      <td>Adam Froese</td>\n",
       "      <td>CAN</td>\n",
       "      <td>male</td>\n",
       "      <td>8/13/91</td>\n",
       "      <td>1.82</td>\n",
       "      <td>81.0</td>\n",
       "      <td>hockey</td>\n",
       "      <td>0</td>\n",
       "      <td>0</td>\n",
       "      <td>0</td>\n",
       "    </tr>\n",
       "    <tr>\n",
       "      <th>92</th>\n",
       "      <td>983411298</td>\n",
       "      <td>Adam van Koeverden</td>\n",
       "      <td>CAN</td>\n",
       "      <td>male</td>\n",
       "      <td>1/29/82</td>\n",
       "      <td>1.82</td>\n",
       "      <td>85.0</td>\n",
       "      <td>canoe</td>\n",
       "      <td>0</td>\n",
       "      <td>0</td>\n",
       "      <td>0</td>\n",
       "    </tr>\n",
       "    <tr>\n",
       "      <th>238</th>\n",
       "      <td>769580282</td>\n",
       "      <td>Akeem Haynes</td>\n",
       "      <td>CAN</td>\n",
       "      <td>male</td>\n",
       "      <td>3/11/92</td>\n",
       "      <td>1.68</td>\n",
       "      <td>71.0</td>\n",
       "      <td>athletics</td>\n",
       "      <td>0</td>\n",
       "      <td>0</td>\n",
       "      <td>1</td>\n",
       "    </tr>\n",
       "    <tr>\n",
       "      <th>332</th>\n",
       "      <td>84230211</td>\n",
       "      <td>Alena Sharp</td>\n",
       "      <td>CAN</td>\n",
       "      <td>female</td>\n",
       "      <td>3/7/81</td>\n",
       "      <td>1.68</td>\n",
       "      <td>69.0</td>\n",
       "      <td>golf</td>\n",
       "      <td>0</td>\n",
       "      <td>0</td>\n",
       "      <td>0</td>\n",
       "    </tr>\n",
       "    <tr>\n",
       "      <th>...</th>\n",
       "      <td>...</td>\n",
       "      <td>...</td>\n",
       "      <td>...</td>\n",
       "      <td>...</td>\n",
       "      <td>...</td>\n",
       "      <td>...</td>\n",
       "      <td>...</td>\n",
       "      <td>...</td>\n",
       "      <td>...</td>\n",
       "      <td>...</td>\n",
       "      <td>...</td>\n",
       "    </tr>\n",
       "    <tr>\n",
       "      <th>10871</th>\n",
       "      <td>646986835</td>\n",
       "      <td>Vincent Riendeau</td>\n",
       "      <td>CAN</td>\n",
       "      <td>male</td>\n",
       "      <td>12/13/96</td>\n",
       "      <td>1.78</td>\n",
       "      <td>68.0</td>\n",
       "      <td>aquatics</td>\n",
       "      <td>0</td>\n",
       "      <td>0</td>\n",
       "      <td>0</td>\n",
       "    </tr>\n",
       "    <tr>\n",
       "      <th>11002</th>\n",
       "      <td>202043393</td>\n",
       "      <td>Will Crothers</td>\n",
       "      <td>CAN</td>\n",
       "      <td>male</td>\n",
       "      <td>6/14/87</td>\n",
       "      <td>1.95</td>\n",
       "      <td>95.0</td>\n",
       "      <td>rowing</td>\n",
       "      <td>0</td>\n",
       "      <td>0</td>\n",
       "      <td>0</td>\n",
       "    </tr>\n",
       "    <tr>\n",
       "      <th>11003</th>\n",
       "      <td>212657714</td>\n",
       "      <td>Will Dean</td>\n",
       "      <td>CAN</td>\n",
       "      <td>male</td>\n",
       "      <td>6/10/87</td>\n",
       "      <td>1.95</td>\n",
       "      <td>95.0</td>\n",
       "      <td>rowing</td>\n",
       "      <td>0</td>\n",
       "      <td>0</td>\n",
       "      <td>0</td>\n",
       "    </tr>\n",
       "    <tr>\n",
       "      <th>11156</th>\n",
       "      <td>982324748</td>\n",
       "      <td>Yann Candele</td>\n",
       "      <td>CAN</td>\n",
       "      <td>male</td>\n",
       "      <td>3/11/71</td>\n",
       "      <td>1.73</td>\n",
       "      <td>82.0</td>\n",
       "      <td>equestrian</td>\n",
       "      <td>0</td>\n",
       "      <td>0</td>\n",
       "      <td>0</td>\n",
       "    </tr>\n",
       "    <tr>\n",
       "      <th>11401</th>\n",
       "      <td>708404577</td>\n",
       "      <td>Yuri Kisil</td>\n",
       "      <td>CAN</td>\n",
       "      <td>male</td>\n",
       "      <td>9/18/95</td>\n",
       "      <td>2.00</td>\n",
       "      <td>84.0</td>\n",
       "      <td>aquatics</td>\n",
       "      <td>0</td>\n",
       "      <td>0</td>\n",
       "      <td>0</td>\n",
       "    </tr>\n",
       "  </tbody>\n",
       "</table>\n",
       "<p>321 rows × 11 columns</p>\n",
       "</div>"
      ],
      "text/plain": [
       "              id                name nationality     sex       dob  height  \\\n",
       "2      435962603         Aaron Brown         CAN    male   5/27/92    1.98   \n",
       "77     136977152         Adam Froese         CAN    male   8/13/91    1.82   \n",
       "92     983411298  Adam van Koeverden         CAN    male   1/29/82    1.82   \n",
       "238    769580282        Akeem Haynes         CAN    male   3/11/92    1.68   \n",
       "332     84230211         Alena Sharp         CAN  female    3/7/81    1.68   \n",
       "...          ...                 ...         ...     ...       ...     ...   \n",
       "10871  646986835    Vincent Riendeau         CAN    male  12/13/96    1.78   \n",
       "11002  202043393       Will Crothers         CAN    male   6/14/87    1.95   \n",
       "11003  212657714           Will Dean         CAN    male   6/10/87    1.95   \n",
       "11156  982324748        Yann Candele         CAN    male   3/11/71    1.73   \n",
       "11401  708404577          Yuri Kisil         CAN    male   9/18/95    2.00   \n",
       "\n",
       "       weight       sport  gold  silver  bronze  \n",
       "2        79.0   athletics     0       0       1  \n",
       "77       81.0      hockey     0       0       0  \n",
       "92       85.0       canoe     0       0       0  \n",
       "238      71.0   athletics     0       0       1  \n",
       "332      69.0        golf     0       0       0  \n",
       "...       ...         ...   ...     ...     ...  \n",
       "10871    68.0    aquatics     0       0       0  \n",
       "11002    95.0      rowing     0       0       0  \n",
       "11003    95.0      rowing     0       0       0  \n",
       "11156    82.0  equestrian     0       0       0  \n",
       "11401    84.0    aquatics     0       0       0  \n",
       "\n",
       "[321 rows x 11 columns]"
      ]
     },
     "execution_count": 24,
     "metadata": {},
     "output_type": "execute_result"
    }
   ],
   "source": [
    "canada"
   ]
  },
  {
   "cell_type": "code",
   "execution_count": 27,
   "metadata": {},
   "outputs": [],
   "source": [
    "t, p = sct.ttest_ind(USa['height'], canada['height'], equal_var = False, nan_policy = 'omit')"
   ]
  },
  {
   "cell_type": "code",
   "execution_count": 28,
   "metadata": {},
   "outputs": [
    {
     "data": {
      "text/plain": [
       "3.516987632488539"
      ]
     },
     "execution_count": 28,
     "metadata": {},
     "output_type": "execute_result"
    }
   ],
   "source": [
    "t"
   ]
  },
  {
   "cell_type": "code",
   "execution_count": 29,
   "metadata": {},
   "outputs": [
    {
     "data": {
      "text/plain": [
       "0.0004660129347389851"
      ]
     },
     "execution_count": 29,
     "metadata": {},
     "output_type": "execute_result"
    }
   ],
   "source": [
    "p"
   ]
  },
  {
   "cell_type": "code",
   "execution_count": 30,
   "metadata": {},
   "outputs": [
    {
     "data": {
      "text/plain": [
       "0.00046601"
      ]
     },
     "execution_count": 30,
     "metadata": {},
     "output_type": "execute_result"
    }
   ],
   "source": [
    "round(float(p),8)"
   ]
  },
  {
   "cell_type": "code",
   "execution_count": 32,
   "metadata": {},
   "outputs": [],
   "source": [
    "s_w = get_sample(athletes, 'weight', n=3000)\n",
    "log = np.log(s_w)\n",
    "w, pv = sct.normaltest(log)"
   ]
  },
  {
   "cell_type": "code",
   "execution_count": 47,
   "metadata": {},
   "outputs": [
    {
     "data": {
      "text/plain": [
       "2162      80.0\n",
       "3450      70.0\n",
       "6886      69.0\n",
       "3871      66.0\n",
       "6383      82.0\n",
       "         ...  \n",
       "11255     63.0\n",
       "9790      61.0\n",
       "4127     125.0\n",
       "463       54.0\n",
       "6664      62.0\n",
       "Name: weight, Length: 3000, dtype: float64"
      ]
     },
     "execution_count": 47,
     "metadata": {},
     "output_type": "execute_result"
    }
   ],
   "source": [
    "s_w"
   ]
  },
  {
   "cell_type": "code",
   "execution_count": 46,
   "metadata": {},
   "outputs": [
    {
     "data": {
      "text/plain": [
       "2162     4.382027\n",
       "3450     4.248495\n",
       "6886     4.234107\n",
       "3871     4.189655\n",
       "6383     4.406719\n",
       "           ...   \n",
       "11255    4.143135\n",
       "9790     4.110874\n",
       "4127     4.828314\n",
       "463      3.988984\n",
       "6664     4.127134\n",
       "Name: weight, Length: 3000, dtype: float64"
      ]
     },
     "execution_count": 46,
     "metadata": {},
     "output_type": "execute_result"
    }
   ],
   "source": [
    "log"
   ]
  },
  {
   "cell_type": "code",
   "execution_count": 33,
   "metadata": {},
   "outputs": [
    {
     "data": {
      "text/plain": [
       "45.91534331977353"
      ]
     },
     "execution_count": 33,
     "metadata": {},
     "output_type": "execute_result"
    }
   ],
   "source": [
    "w"
   ]
  },
  {
   "cell_type": "code",
   "execution_count": 54,
   "metadata": {},
   "outputs": [
    {
     "data": {
      "text/plain": [
       "1.0705572101256944e-10"
      ]
     },
     "execution_count": 54,
     "metadata": {},
     "output_type": "execute_result"
    }
   ],
   "source": [
    "pv"
   ]
  },
  {
   "cell_type": "code",
   "execution_count": 35,
   "metadata": {},
   "outputs": [],
   "source": [
    "media, desvio = s_w.mean(), s_w.std()"
   ]
  },
  {
   "cell_type": "code",
   "execution_count": 36,
   "metadata": {},
   "outputs": [
    {
     "data": {
      "text/plain": [
       "72.12266666666666"
      ]
     },
     "execution_count": 36,
     "metadata": {},
     "output_type": "execute_result"
    }
   ],
   "source": [
    "media"
   ]
  },
  {
   "cell_type": "code",
   "execution_count": 38,
   "metadata": {},
   "outputs": [
    {
     "data": {
      "text/plain": [
       "16.366741977861043"
      ]
     },
     "execution_count": 38,
     "metadata": {},
     "output_type": "execute_result"
    }
   ],
   "source": [
    "desvio"
   ]
  },
  {
   "cell_type": "code",
   "execution_count": 42,
   "metadata": {},
   "outputs": [
    {
     "data": {
      "text/plain": [
       "2162     0.481301\n",
       "3450    -0.129694\n",
       "6886    -0.190793\n",
       "3871    -0.374092\n",
       "6383     0.603500\n",
       "           ...   \n",
       "11255   -0.557391\n",
       "9790    -0.679590\n",
       "4127     3.230779\n",
       "463     -1.107286\n",
       "6664    -0.618490\n",
       "Name: weight, Length: 3000, dtype: float64"
      ]
     },
     "execution_count": 42,
     "metadata": {},
     "output_type": "execute_result"
    }
   ],
   "source": [
    "normalizado = (s_w - media)/desvio\n",
    "normalizado"
   ]
  },
  {
   "cell_type": "code",
   "execution_count": null,
   "metadata": {},
   "outputs": [],
   "source": []
  },
  {
   "cell_type": "code",
   "execution_count": 43,
   "metadata": {},
   "outputs": [],
   "source": [
    "w2, pv2 = sct.normaltest(normalizado)"
   ]
  },
  {
   "cell_type": "code",
   "execution_count": 44,
   "metadata": {},
   "outputs": [
    {
     "data": {
      "text/plain": [
       "510.24655809881074"
      ]
     },
     "execution_count": 44,
     "metadata": {},
     "output_type": "execute_result"
    }
   ],
   "source": [
    "w2"
   ]
  },
  {
   "cell_type": "code",
   "execution_count": 45,
   "metadata": {},
   "outputs": [
    {
     "data": {
      "text/plain": [
       "1.5898922918037703e-111"
      ]
     },
     "execution_count": 45,
     "metadata": {},
     "output_type": "execute_result"
    }
   ],
   "source": [
    "pv2"
   ]
  },
  {
   "cell_type": "code",
   "execution_count": null,
   "metadata": {},
   "outputs": [],
   "source": []
  },
  {
   "cell_type": "markdown",
   "metadata": {},
   "source": [
    "## Questão 1\n",
    "\n",
    "Considerando uma amostra de tamanho 3000 da coluna `height` obtida com a função `get_sample()`, execute o teste de normalidade de Shapiro-Wilk com a função `scipy.stats.shapiro()`. Podemos afirmar que as alturas são normalmente distribuídas com base nesse teste (ao nível de significância de 5%)? Responda com um boolean (`True` ou `False`)."
   ]
  },
  {
   "cell_type": "code",
   "execution_count": 6,
   "metadata": {},
   "outputs": [
    {
     "data": {
      "text/plain": [
       "False"
      ]
     },
     "execution_count": 6,
     "metadata": {},
     "output_type": "execute_result"
    }
   ],
   "source": [
    "def q1():\n",
    "    # Retorne aqui o resultado da questão 1.\n",
    "    sample_height = get_sample(athletes, 'height', n=3000)\n",
    "    W_and_pvalue_height = sct.shapiro(sample_height)\n",
    "    pvalue_height =  W_and_pvalue_height[1]\n",
    "    alpha = 0.05\n",
    "    return bool(pvalue_height > alpha)\n",
    "q1()"
   ]
  },
  {
   "cell_type": "markdown",
   "metadata": {},
   "source": [
    "__Para refletir__:\n",
    "\n",
    "* Plote o histograma dessa variável (com, por exemplo, `bins=25`). A forma do gráfico e o resultado do teste são condizentes? Por que?\n",
    "* Plote o qq-plot para essa variável e a analise.\n",
    "* Existe algum nível de significância razoável que nos dê outro resultado no teste? (Não faça isso na prática. Isso é chamado _p-value hacking_, e não é legal)."
   ]
  },
  {
   "cell_type": "markdown",
   "metadata": {},
   "source": [
    "## Questão 2\n",
    "\n",
    "Repita o mesmo procedimento acima, mas agora utilizando o teste de normalidade de Jarque-Bera através da função `scipy.stats.jarque_bera()`. Agora podemos afirmar que as alturas são normalmente distribuídas (ao nível de significância de 5%)? Responda com um boolean (`True` ou `False`)."
   ]
  },
  {
   "cell_type": "code",
   "execution_count": 7,
   "metadata": {},
   "outputs": [
    {
     "data": {
      "text/plain": [
       "False"
      ]
     },
     "execution_count": 7,
     "metadata": {},
     "output_type": "execute_result"
    }
   ],
   "source": [
    "def q2():\n",
    "    # Retorne aqui o resultado da questão 2.\n",
    "    sample_height = get_sample(athletes, 'height', n=3000)\n",
    "    JB_and_pvalue_height = sct.jarque_bera(sample_height)\n",
    "    pvalue_height =  JB_and_pvalue_height[1]\n",
    "    alpha = 0.05\n",
    "    return bool(pvalue_height > alpha)\n",
    "q2()"
   ]
  },
  {
   "cell_type": "markdown",
   "metadata": {},
   "source": [
    "__Para refletir__:\n",
    "\n",
    "* Esse resultado faz sentido?"
   ]
  },
  {
   "cell_type": "markdown",
   "metadata": {},
   "source": [
    "## Questão 3\n",
    "\n",
    "Considerando agora uma amostra de tamanho 3000 da coluna `weight` obtida com a função `get_sample()`. Faça o teste de normalidade de D'Agostino-Pearson utilizando a função `scipy.stats.normaltest()`. Podemos afirmar que os pesos vêm de uma distribuição normal ao nível de significância de 5%? Responda com um boolean (`True` ou `False`)."
   ]
  },
  {
   "cell_type": "code",
   "execution_count": 8,
   "metadata": {},
   "outputs": [
    {
     "data": {
      "text/plain": [
       "False"
      ]
     },
     "execution_count": 8,
     "metadata": {},
     "output_type": "execute_result"
    }
   ],
   "source": [
    "def q3():\n",
    "    # Retorne aqui o resultado da questão 3.\n",
    "    sample_weight = get_sample(athletes, 'weight', n=3000)\n",
    "    T_and_pvalue_weight = sct.normaltest(sample_weight)\n",
    "    pvalue_weight =  T_and_pvalue_weight[1]\n",
    "    alpha = 0.05\n",
    "    return bool(pvalue_weight > alpha)\n",
    "q3()"
   ]
  },
  {
   "cell_type": "markdown",
   "metadata": {},
   "source": [
    "__Para refletir__:\n",
    "\n",
    "* Plote o histograma dessa variável (com, por exemplo, `bins=25`). A forma do gráfico e o resultado do teste são condizentes? Por que?\n",
    "* Um _box plot_ também poderia ajudar a entender a resposta."
   ]
  },
  {
   "cell_type": "markdown",
   "metadata": {},
   "source": [
    "## Questão 4\n",
    "\n",
    "Realize uma transformação logarítmica em na amostra de `weight` da questão 3 e repita o mesmo procedimento. Podemos afirmar a normalidade da variável transformada ao nível de significância de 5%? Responda com um boolean (`True` ou `False`)."
   ]
  },
  {
   "cell_type": "code",
   "execution_count": 9,
   "metadata": {},
   "outputs": [
    {
     "data": {
      "text/plain": [
       "False"
      ]
     },
     "execution_count": 9,
     "metadata": {},
     "output_type": "execute_result"
    }
   ],
   "source": [
    "def q4():\n",
    "    # Retorne aqui o resultado da questão 4.\n",
    "    sample_weight = get_sample(athletes, 'weight', n=3000)\n",
    "    log_s_weight = np.log(sample_weight)\n",
    "    W_and_pvalue_weight = sct.normaltest(log_s_weight)\n",
    "    pvalue_weight =  W_and_pvalue_weight[1]\n",
    "    alpha = 0.05\n",
    "    return bool(pvalue_weight > alpha)\n",
    "q4()"
   ]
  },
  {
   "cell_type": "markdown",
   "metadata": {},
   "source": [
    "__Para refletir__:\n",
    "\n",
    "* Plote o histograma dessa variável (com, por exemplo, `bins=25`). A forma do gráfico e o resultado do teste são condizentes? Por que?\n",
    "* Você esperava um resultado diferente agora?"
   ]
  },
  {
   "cell_type": "markdown",
   "metadata": {},
   "source": [
    "> __Para as questão 5 6 e 7 a seguir considere todos testes efetuados ao nível de significância de 5%__."
   ]
  },
  {
   "cell_type": "markdown",
   "metadata": {},
   "source": [
    "## Questão 5\n",
    "\n",
    "Obtenha todos atletas brasileiros, norte-americanos e canadenses em `DataFrame`s chamados `bra`, `usa` e `can`,respectivamente. Realize um teste de hipóteses para comparação das médias das alturas (`height`) para amostras independentes e variâncias diferentes com a função `scipy.stats.ttest_ind()` entre `bra` e `usa`. Podemos afirmar que as médias são estatisticamente iguais? Responda com um boolean (`True` ou `False`)."
   ]
  },
  {
   "cell_type": "code",
   "execution_count": 10,
   "metadata": {},
   "outputs": [
    {
     "data": {
      "text/plain": [
       "False"
      ]
     },
     "execution_count": 10,
     "metadata": {},
     "output_type": "execute_result"
    }
   ],
   "source": [
    "def q5():\n",
    "    # Retorne aqui o resultado da questão 5.\n",
    "    bra = athletes.query('nationality == \"BRA\"')\n",
    "    usa = athletes.query('nationality == \"USA\"')\n",
    "    T_and_pvalue_BraUSA = sct.ttest_ind(bra.height, usa.height, equal_var = False, nan_policy = 'omit')\n",
    "    pvalue_BraUSA = T_and_pvalue_BraUSA[1]\n",
    "    alpha = 0.05\n",
    "    return bool(pvalue_BraUSA > alpha)\n",
    "q5()"
   ]
  },
  {
   "cell_type": "markdown",
   "metadata": {},
   "source": [
    "## Questão 6\n",
    "\n",
    "Repita o procedimento da questão 5, mas agora entre as alturas de `bra` e `can`. Podemos afimar agora que as médias são estatisticamente iguais? Reponda com um boolean (`True` ou `False`)."
   ]
  },
  {
   "cell_type": "code",
   "execution_count": 11,
   "metadata": {},
   "outputs": [
    {
     "data": {
      "text/plain": [
       "True"
      ]
     },
     "execution_count": 11,
     "metadata": {},
     "output_type": "execute_result"
    }
   ],
   "source": [
    "def q6():\n",
    "    # Retorne aqui o resultado da questão 6.\n",
    "    bra = athletes.query('nationality == \"BRA\"')\n",
    "    can = athletes.query('nationality == \"CAN\"')\n",
    "    T_and_pvalue_BraCAN = sct.ttest_ind(bra.height, can.height, equal_var = False, nan_policy = 'omit')\n",
    "    pvalue_BraCAN = T_and_pvalue_BraCAN[1]\n",
    "    alpha = 0.05\n",
    "    return bool(pvalue_BraCAN > alpha)\n",
    "q6()"
   ]
  },
  {
   "cell_type": "markdown",
   "metadata": {},
   "source": [
    "## Questão 7\n",
    "\n",
    "Repita o procedimento da questão 6, mas agora entre as alturas de `usa` e `can`. Qual o valor do p-valor retornado? Responda como um único escalar arredondado para oito casas decimais."
   ]
  },
  {
   "cell_type": "code",
   "execution_count": 12,
   "metadata": {},
   "outputs": [
    {
     "data": {
      "text/plain": [
       "0.00046601"
      ]
     },
     "execution_count": 12,
     "metadata": {},
     "output_type": "execute_result"
    }
   ],
   "source": [
    "def q7():\n",
    "    # Retorne aqui o resultado da questão 7.\n",
    "    usa = athletes.query('nationality == \"USA\"')\n",
    "    can = athletes.query('nationality == \"CAN\"')\n",
    "    T_and_pvalue_USACan = sct.ttest_ind(usa.height, can.height, equal_var = False, nan_policy = 'omit')\n",
    "    pvalue_USACan = T_and_pvalue_USACan[1]\n",
    "    return round(float(pvalue_USACan), 8)\n",
    "q7()"
   ]
  },
  {
   "cell_type": "markdown",
   "metadata": {},
   "source": [
    "__Para refletir__:\n",
    "\n",
    "* O resultado faz sentido?\n",
    "* Você consegue interpretar esse p-valor?\n",
    "* Você consegue chegar a esse valor de p-valor a partir da variável de estatística?"
   ]
  },
  {
   "cell_type": "code",
   "execution_count": null,
   "metadata": {},
   "outputs": [],
   "source": []
  }
 ],
 "metadata": {
  "kernelspec": {
   "display_name": "Python 3",
   "language": "python",
   "name": "python3"
  },
  "language_info": {
   "codemirror_mode": {
    "name": "ipython",
    "version": 3
   },
   "file_extension": ".py",
   "mimetype": "text/x-python",
   "name": "python",
   "nbconvert_exporter": "python",
   "pygments_lexer": "ipython3",
   "version": "3.7.7"
  }
 },
 "nbformat": 4,
 "nbformat_minor": 2
}
