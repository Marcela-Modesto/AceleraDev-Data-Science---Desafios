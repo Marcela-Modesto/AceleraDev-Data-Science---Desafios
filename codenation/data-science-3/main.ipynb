{
 "cells": [
  {
   "cell_type": "markdown",
   "metadata": {},
   "source": [
    "# Desafio 5\n",
    "\n",
    "Neste desafio, vamos praticar sobre redução de dimensionalidade com PCA e seleção de variáveis com RFE. Utilizaremos o _data set_ [Fifa 2019](https://www.kaggle.com/karangadiya/fifa19), contendo originalmente 89 variáveis de mais de 18 mil jogadores do _game_ FIFA 2019.\n",
    "\n",
    "> Obs.: Por favor, não modifique o nome das funções de resposta."
   ]
  },
  {
   "cell_type": "markdown",
   "metadata": {},
   "source": [
    "## _Setup_ geral"
   ]
  },
  {
   "cell_type": "code",
   "execution_count": 1,
   "metadata": {},
   "outputs": [],
   "source": [
    "from math import sqrt\n",
    "\n",
    "import pandas as pd\n",
    "import matplotlib.pyplot as plt\n",
    "import numpy as np\n",
    "import scipy.stats as sct\n",
    "import seaborn as sns\n",
    "import statsmodels.api as sm\n",
    "import statsmodels.stats as st\n",
    "from sklearn.decomposition import PCA\n",
    "\n",
    "from loguru import logger\n"
   ]
  },
  {
   "cell_type": "code",
   "execution_count": 13,
   "metadata": {},
   "outputs": [],
   "source": [
    "from sklearn.svm import LinearSVC\n",
    "from sklearn.linear_model import LinearRegression\n",
    "from sklearn.feature_selection import RFE"
   ]
  },
  {
   "cell_type": "code",
   "execution_count": 2,
   "metadata": {},
   "outputs": [],
   "source": [
    "# Algumas configurações para o matplotlib.\n",
    "#%matplotlib inline\n",
    "\n",
    "#from IPython.core.pylabtools import figsize\n",
    "\n",
    "\n",
    "#figsize(12, 8)\n",
    "\n",
    "#sns.set()"
   ]
  },
  {
   "cell_type": "code",
   "execution_count": 2,
   "metadata": {
    "scrolled": false
   },
   "outputs": [],
   "source": [
    "fifa = pd.read_csv(\"fifa.csv\")"
   ]
  },
  {
   "cell_type": "code",
   "execution_count": 3,
   "metadata": {},
   "outputs": [],
   "source": [
    "columns_to_drop = [\"Unnamed: 0\", \"ID\", \"Name\", \"Photo\", \"Nationality\", \"Flag\",\n",
    "                   \"Club\", \"Club Logo\", \"Value\", \"Wage\", \"Special\", \"Preferred Foot\",\n",
    "                   \"International Reputation\", \"Weak Foot\", \"Skill Moves\", \"Work Rate\",\n",
    "                   \"Body Type\", \"Real Face\", \"Position\", \"Jersey Number\", \"Joined\",\n",
    "                   \"Loaned From\", \"Contract Valid Until\", \"Height\", \"Weight\", \"LS\",\n",
    "                   \"ST\", \"RS\", \"LW\", \"LF\", \"CF\", \"RF\", \"RW\", \"LAM\", \"CAM\", \"RAM\", \"LM\",\n",
    "                   \"LCM\", \"CM\", \"RCM\", \"RM\", \"LWB\", \"LDM\", \"CDM\", \"RDM\", \"RWB\", \"LB\", \"LCB\",\n",
    "                   \"CB\", \"RCB\", \"RB\", \"Release Clause\"\n",
    "]\n",
    "\n",
    "try:\n",
    "    fifa.drop(columns_to_drop, axis=1, inplace=True)\n",
    "except KeyError:\n",
    "    logger.warning(f\"Columns already dropped\")"
   ]
  },
  {
   "cell_type": "markdown",
   "metadata": {},
   "source": [
    "## Inicia sua análise a partir daqui"
   ]
  },
  {
   "cell_type": "code",
   "execution_count": 4,
   "metadata": {},
   "outputs": [
    {
     "name": "stdout",
     "output_type": "stream",
     "text": [
      "<class 'pandas.core.frame.DataFrame'>\n",
      "RangeIndex: 18207 entries, 0 to 18206\n",
      "Data columns (total 37 columns):\n",
      " #   Column           Non-Null Count  Dtype  \n",
      "---  ------           --------------  -----  \n",
      " 0   Age              18207 non-null  int64  \n",
      " 1   Overall          18207 non-null  int64  \n",
      " 2   Potential        18207 non-null  int64  \n",
      " 3   Crossing         18159 non-null  float64\n",
      " 4   Finishing        18159 non-null  float64\n",
      " 5   HeadingAccuracy  18159 non-null  float64\n",
      " 6   ShortPassing     18159 non-null  float64\n",
      " 7   Volleys          18159 non-null  float64\n",
      " 8   Dribbling        18159 non-null  float64\n",
      " 9   Curve            18159 non-null  float64\n",
      " 10  FKAccuracy       18159 non-null  float64\n",
      " 11  LongPassing      18159 non-null  float64\n",
      " 12  BallControl      18159 non-null  float64\n",
      " 13  Acceleration     18159 non-null  float64\n",
      " 14  SprintSpeed      18159 non-null  float64\n",
      " 15  Agility          18159 non-null  float64\n",
      " 16  Reactions        18159 non-null  float64\n",
      " 17  Balance          18159 non-null  float64\n",
      " 18  ShotPower        18159 non-null  float64\n",
      " 19  Jumping          18159 non-null  float64\n",
      " 20  Stamina          18159 non-null  float64\n",
      " 21  Strength         18159 non-null  float64\n",
      " 22  LongShots        18159 non-null  float64\n",
      " 23  Aggression       18159 non-null  float64\n",
      " 24  Interceptions    18159 non-null  float64\n",
      " 25  Positioning      18159 non-null  float64\n",
      " 26  Vision           18159 non-null  float64\n",
      " 27  Penalties        18159 non-null  float64\n",
      " 28  Composure        18159 non-null  float64\n",
      " 29  Marking          18159 non-null  float64\n",
      " 30  StandingTackle   18159 non-null  float64\n",
      " 31  SlidingTackle    18159 non-null  float64\n",
      " 32  GKDiving         18159 non-null  float64\n",
      " 33  GKHandling       18159 non-null  float64\n",
      " 34  GKKicking        18159 non-null  float64\n",
      " 35  GKPositioning    18159 non-null  float64\n",
      " 36  GKReflexes       18159 non-null  float64\n",
      "dtypes: float64(34), int64(3)\n",
      "memory usage: 5.1 MB\n"
     ]
    }
   ],
   "source": [
    "#Analisando os dados do data frame\n",
    "fifa.info()"
   ]
  },
  {
   "cell_type": "code",
   "execution_count": 5,
   "metadata": {},
   "outputs": [],
   "source": [
    "#Pelos dados acima, pode-se observar que existem valores nulos a partir da coluna de índice 3\n",
    "#Retirando os dados faltantes\n",
    "fifa.dropna(inplace=True)"
   ]
  },
  {
   "cell_type": "markdown",
   "metadata": {},
   "source": [
    "## Questão 1\n",
    "\n",
    "Qual fração da variância consegue ser explicada pelo primeiro componente principal de `fifa`? Responda como um único float (entre 0 e 1) arredondado para três casas decimais."
   ]
  },
  {
   "cell_type": "code",
   "execution_count": 6,
   "metadata": {},
   "outputs": [
    {
     "data": {
      "text/plain": [
       "0.565"
      ]
     },
     "execution_count": 6,
     "metadata": {},
     "output_type": "execute_result"
    }
   ],
   "source": [
    "def q1():\n",
    "    # Retorne aqui o resultado da questão 1.\n",
    "    pca = PCA()\n",
    "    project = pca.fit_transform(fifa)\n",
    "    primeiro_componente = pca.explained_variance_ratio_[0]\n",
    "    return float(round(primeiro_componente,3))\n",
    "q1()"
   ]
  },
  {
   "cell_type": "markdown",
   "metadata": {},
   "source": [
    "## Questão 2\n",
    "\n",
    "Quantos componentes principais precisamos para explicar 95% da variância total? Responda como un único escalar inteiro."
   ]
  },
  {
   "cell_type": "code",
   "execution_count": 8,
   "metadata": {},
   "outputs": [
    {
     "data": {
      "text/plain": [
       "15"
      ]
     },
     "execution_count": 8,
     "metadata": {},
     "output_type": "execute_result"
    }
   ],
   "source": [
    "def q2():\n",
    "    # Retorne aqui o resultado da questão 2.\n",
    "    pca = PCA(0.95)\n",
    "    pca.fit_transform(fifa)\n",
    "    return int(pca.n_components_)\n",
    "q2()"
   ]
  },
  {
   "cell_type": "markdown",
   "metadata": {},
   "source": [
    "## Questão 3\n",
    "\n",
    "Qual são as coordenadas (primeiro e segundo componentes principais) do ponto `x` abaixo? O vetor abaixo já está centralizado. Cuidado para __não__ centralizar o vetor novamente (por exemplo, invocando `PCA.transform()` nele). Responda como uma tupla de float arredondados para três casas decimais."
   ]
  },
  {
   "cell_type": "code",
   "execution_count": 9,
   "metadata": {},
   "outputs": [],
   "source": [
    "x = [0.87747123,  -1.24990363,  -1.3191255, -36.7341814,\n",
    "     -35.55091139, -37.29814417, -28.68671182, -30.90902583,\n",
    "     -42.37100061, -32.17082438, -28.86315326, -22.71193348,\n",
    "     -38.36945867, -20.61407566, -22.72696734, -25.50360703,\n",
    "     2.16339005, -27.96657305, -33.46004736,  -5.08943224,\n",
    "     -30.21994603,   3.68803348, -36.10997302, -30.86899058,\n",
    "     -22.69827634, -37.95847789, -22.40090313, -30.54859849,\n",
    "     -26.64827358, -19.28162344, -34.69783578, -34.6614351,\n",
    "     48.38377664,  47.60840355,  45.76793876,  44.61110193,\n",
    "     49.28911284\n",
    "]"
   ]
  },
  {
   "cell_type": "code",
   "execution_count": 10,
   "metadata": {},
   "outputs": [
    {
     "data": {
      "text/plain": [
       "(186.556, -6.592)"
      ]
     },
     "execution_count": 10,
     "metadata": {},
     "output_type": "execute_result"
    }
   ],
   "source": [
    "def q3():\n",
    "    # Retorne aqui o resultado da questão 3.\n",
    "    pca = PCA()\n",
    "    pca.fit_transform(fifa)\n",
    "    primeiro_e_segundo_cp = pca.components_.dot(x)[0:2]\n",
    "    return tuple(primeiro_e_segundo_cp.round(3))\n",
    "q3()"
   ]
  },
  {
   "cell_type": "markdown",
   "metadata": {},
   "source": [
    "## Questão 4\n",
    "\n",
    "Realiza RFE com estimador de regressão linear para selecionar cinco variáveis, eliminando uma a uma. Quais são as variáveis selecionadas? Responda como uma lista de nomes de variáveis."
   ]
  },
  {
   "cell_type": "code",
   "execution_count": 24,
   "metadata": {},
   "outputs": [
    {
     "data": {
      "text/plain": [
       "['Age', 'Potential', 'BallControl', 'Reactions', 'GKReflexes']"
      ]
     },
     "execution_count": 24,
     "metadata": {},
     "output_type": "execute_result"
    }
   ],
   "source": [
    "def q4():\n",
    "    # Retorne aqui o resultado da questão 4.\n",
    "    X = fifa.drop(columns = 'Overall')\n",
    "    y = fifa.Overall\n",
    "    rfe = RFE(estimator = LinearRegression(), n_features_to_select = 5, step = 1)\n",
    "    rfe = rfe.fit(X, y)\n",
    "    cinco_var = rfe.get_support(indices = True)\n",
    "    return list(X.columns[cinco_var])\n",
    "q4()"
   ]
  },
  {
   "cell_type": "code",
   "execution_count": null,
   "metadata": {},
   "outputs": [],
   "source": []
  }
 ],
 "metadata": {
  "kernelspec": {
   "display_name": "Python 3",
   "language": "python",
   "name": "python3"
  },
  "language_info": {
   "codemirror_mode": {
    "name": "ipython",
    "version": 3
   },
   "file_extension": ".py",
   "mimetype": "text/x-python",
   "name": "python",
   "nbconvert_exporter": "python",
   "pygments_lexer": "ipython3",
   "version": "3.7.7"
  }
 },
 "nbformat": 4,
 "nbformat_minor": 2
}
