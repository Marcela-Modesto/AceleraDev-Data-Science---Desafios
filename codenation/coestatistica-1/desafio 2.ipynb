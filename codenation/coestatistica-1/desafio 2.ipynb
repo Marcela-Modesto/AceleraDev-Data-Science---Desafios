{
 "cells": [
  {
   "cell_type": "markdown",
   "metadata": {},
   "source": [
    "# Desafio 2 (Semana 03)\n",
    "\n",
    "## Objetivos:\n",
    "\n",
    "    - Analisar a pontuação de crédito de cada cliente por estado;\n",
    "    - Identificar os valores da média, da mediana, da moda e do desvio padrão da pontuação de crédito;\n",
    "    - Submeter os valorese cada estado identificado em um arquivo JSON nomeado de \"submission.json\".\n",
    "    \n",
    "\n",
    "### Descrição dos dados:\n",
    "\n",
    "    - 'id': Identificador do cliente\n",
    "    - 'sobrenome': Sobrenome do cliente\n",
    "    - 'pontuacao_credito': Pontuação de crédito do cliente (quanto maior, melhor o cliente geralmente)\n",
    "    - 'estado_residencia': Estado de residência do cliente\n",
    "    - 'genero': Gênero do cliente\n",
    "    - 'nivel_estabilidade': Nível de estabilidade do cliente\n",
    "    - 'saldo_conta': Saldo disponível na conta do cliente\n",
    "    - 'numero_produtos': Número de produtos que o cliente consome\n",
    "    - 'possui_cartao_de_credito': Possui um cartão de crédito cadastrado\n",
    "    - 'membro_ativo': Membro acessa e consome frequentemente\n",
    "\n",
    "Obs: Os dados são fictícios, mas tentam representar a realidade de uma base de clientes de um produto SaaS. "
   ]
  },
  {
   "cell_type": "markdown",
   "metadata": {},
   "source": [
    "- **Importando as bibliotecas:**"
   ]
  },
  {
   "cell_type": "code",
   "execution_count": 1,
   "metadata": {},
   "outputs": [],
   "source": [
    "import pandas as pd\n",
    "import numpy as np\n",
    "import matplotlib.pyplot as plt\n",
    "import seaborn as sns\n",
    "%matplotlib inline"
   ]
  },
  {
   "cell_type": "markdown",
   "metadata": {},
   "source": [
    "- **Lendo o arquivo CSV:**"
   ]
  },
  {
   "cell_type": "code",
   "execution_count": 2,
   "metadata": {},
   "outputs": [
    {
     "data": {
      "text/html": [
       "<div>\n",
       "<style scoped>\n",
       "    .dataframe tbody tr th:only-of-type {\n",
       "        vertical-align: middle;\n",
       "    }\n",
       "\n",
       "    .dataframe tbody tr th {\n",
       "        vertical-align: top;\n",
       "    }\n",
       "\n",
       "    .dataframe thead th {\n",
       "        text-align: right;\n",
       "    }\n",
       "</style>\n",
       "<table border=\"1\" class=\"dataframe\">\n",
       "  <thead>\n",
       "    <tr style=\"text-align: right;\">\n",
       "      <th></th>\n",
       "      <th>RowNumber</th>\n",
       "      <th>id</th>\n",
       "      <th>sobrenome</th>\n",
       "      <th>pontuacao_credito</th>\n",
       "      <th>estado_residencia</th>\n",
       "      <th>genero</th>\n",
       "      <th>idade</th>\n",
       "      <th>nivel_estabilidade</th>\n",
       "      <th>saldo_conta</th>\n",
       "      <th>numero_produtos</th>\n",
       "      <th>possui_cartao_de_credito</th>\n",
       "      <th>membro_ativo</th>\n",
       "    </tr>\n",
       "  </thead>\n",
       "  <tbody>\n",
       "    <tr>\n",
       "      <th>0</th>\n",
       "      <td>1</td>\n",
       "      <td>e7f44fcbd380d4cef7e6c232cc7e37895c3fd197</td>\n",
       "      <td>6d6e0aa1b9b413e442e2fb68df14b4fc3f91de50</td>\n",
       "      <td>619</td>\n",
       "      <td>SC</td>\n",
       "      <td>F</td>\n",
       "      <td>42</td>\n",
       "      <td>2</td>\n",
       "      <td>0.00</td>\n",
       "      <td>1</td>\n",
       "      <td>1</td>\n",
       "      <td>1</td>\n",
       "    </tr>\n",
       "    <tr>\n",
       "      <th>1</th>\n",
       "      <td>2</td>\n",
       "      <td>28dcb083ad90512da16b9430085c2cddb8ca5e12</td>\n",
       "      <td>48e1ad846796fa314f1b4a6702b83343eb5482c5</td>\n",
       "      <td>608</td>\n",
       "      <td>RS</td>\n",
       "      <td>F</td>\n",
       "      <td>41</td>\n",
       "      <td>1</td>\n",
       "      <td>83807.86</td>\n",
       "      <td>1</td>\n",
       "      <td>0</td>\n",
       "      <td>1</td>\n",
       "    </tr>\n",
       "    <tr>\n",
       "      <th>2</th>\n",
       "      <td>3</td>\n",
       "      <td>774bc378f787438c9c7594e536787d07a097a54b</td>\n",
       "      <td>f2b29d5d934de615812b697132e767dea0f1e9e2</td>\n",
       "      <td>502</td>\n",
       "      <td>SC</td>\n",
       "      <td>F</td>\n",
       "      <td>42</td>\n",
       "      <td>8</td>\n",
       "      <td>159660.80</td>\n",
       "      <td>3</td>\n",
       "      <td>1</td>\n",
       "      <td>0</td>\n",
       "    </tr>\n",
       "    <tr>\n",
       "      <th>3</th>\n",
       "      <td>4</td>\n",
       "      <td>043a71326f7096de155e7f0c559dc62b5e4b7239</td>\n",
       "      <td>85d5c9da7cddd8109ad32a6c348fe2bb10bf99f2</td>\n",
       "      <td>699</td>\n",
       "      <td>SC</td>\n",
       "      <td>F</td>\n",
       "      <td>39</td>\n",
       "      <td>1</td>\n",
       "      <td>0.00</td>\n",
       "      <td>2</td>\n",
       "      <td>0</td>\n",
       "      <td>0</td>\n",
       "    </tr>\n",
       "    <tr>\n",
       "      <th>4</th>\n",
       "      <td>5</td>\n",
       "      <td>37b3bb8ca243955fb3605ec7e1c2a4607cdb3b22</td>\n",
       "      <td>ddc89c837a6933639de75f28171057060bd322df</td>\n",
       "      <td>850</td>\n",
       "      <td>RS</td>\n",
       "      <td>F</td>\n",
       "      <td>43</td>\n",
       "      <td>2</td>\n",
       "      <td>125510.82</td>\n",
       "      <td>1</td>\n",
       "      <td>1</td>\n",
       "      <td>1</td>\n",
       "    </tr>\n",
       "    <tr>\n",
       "      <th>5</th>\n",
       "      <td>6</td>\n",
       "      <td>db5cf32c3fbc7c5d8f8313afca1d099de6dc055f</td>\n",
       "      <td>a596384ca70664af4c5fac9f935cff186b8e8bc0</td>\n",
       "      <td>645</td>\n",
       "      <td>RS</td>\n",
       "      <td>M</td>\n",
       "      <td>44</td>\n",
       "      <td>8</td>\n",
       "      <td>113755.78</td>\n",
       "      <td>2</td>\n",
       "      <td>1</td>\n",
       "      <td>0</td>\n",
       "    </tr>\n",
       "    <tr>\n",
       "      <th>6</th>\n",
       "      <td>7</td>\n",
       "      <td>8f3cc64a0a84bab38fefb030f09757d0cbf03bb2</td>\n",
       "      <td>abec3e525ab40e45975c91d4fa2bc7b318d93de4</td>\n",
       "      <td>822</td>\n",
       "      <td>SC</td>\n",
       "      <td>M</td>\n",
       "      <td>50</td>\n",
       "      <td>7</td>\n",
       "      <td>0.00</td>\n",
       "      <td>2</td>\n",
       "      <td>1</td>\n",
       "      <td>1</td>\n",
       "    </tr>\n",
       "    <tr>\n",
       "      <th>7</th>\n",
       "      <td>8</td>\n",
       "      <td>6704b822c203e2dda9f225dfc4f1bed2ae9044e6</td>\n",
       "      <td>336b42483e6a17f48eb040a251b5d6e64d1351a9</td>\n",
       "      <td>376</td>\n",
       "      <td>PR</td>\n",
       "      <td>F</td>\n",
       "      <td>29</td>\n",
       "      <td>4</td>\n",
       "      <td>115046.74</td>\n",
       "      <td>4</td>\n",
       "      <td>1</td>\n",
       "      <td>0</td>\n",
       "    </tr>\n",
       "    <tr>\n",
       "      <th>8</th>\n",
       "      <td>9</td>\n",
       "      <td>35f41954a87f722a3960e5fa8ce898a09398a564</td>\n",
       "      <td>53a417796c777851003b3f2431e8eef5625ec15b</td>\n",
       "      <td>501</td>\n",
       "      <td>SC</td>\n",
       "      <td>M</td>\n",
       "      <td>44</td>\n",
       "      <td>4</td>\n",
       "      <td>142051.07</td>\n",
       "      <td>2</td>\n",
       "      <td>0</td>\n",
       "      <td>1</td>\n",
       "    </tr>\n",
       "    <tr>\n",
       "      <th>9</th>\n",
       "      <td>10</td>\n",
       "      <td>f110be36fc6171a7da472b9cbac8698df880aac6</td>\n",
       "      <td>b89d09fc7719cb3c4a87e4a61cb87b3465e9d8ff</td>\n",
       "      <td>684</td>\n",
       "      <td>SC</td>\n",
       "      <td>M</td>\n",
       "      <td>27</td>\n",
       "      <td>2</td>\n",
       "      <td>134603.88</td>\n",
       "      <td>1</td>\n",
       "      <td>1</td>\n",
       "      <td>1</td>\n",
       "    </tr>\n",
       "  </tbody>\n",
       "</table>\n",
       "</div>"
      ],
      "text/plain": [
       "   RowNumber                                        id  \\\n",
       "0          1  e7f44fcbd380d4cef7e6c232cc7e37895c3fd197   \n",
       "1          2  28dcb083ad90512da16b9430085c2cddb8ca5e12   \n",
       "2          3  774bc378f787438c9c7594e536787d07a097a54b   \n",
       "3          4  043a71326f7096de155e7f0c559dc62b5e4b7239   \n",
       "4          5  37b3bb8ca243955fb3605ec7e1c2a4607cdb3b22   \n",
       "5          6  db5cf32c3fbc7c5d8f8313afca1d099de6dc055f   \n",
       "6          7  8f3cc64a0a84bab38fefb030f09757d0cbf03bb2   \n",
       "7          8  6704b822c203e2dda9f225dfc4f1bed2ae9044e6   \n",
       "8          9  35f41954a87f722a3960e5fa8ce898a09398a564   \n",
       "9         10  f110be36fc6171a7da472b9cbac8698df880aac6   \n",
       "\n",
       "                                  sobrenome  pontuacao_credito  \\\n",
       "0  6d6e0aa1b9b413e442e2fb68df14b4fc3f91de50                619   \n",
       "1  48e1ad846796fa314f1b4a6702b83343eb5482c5                608   \n",
       "2  f2b29d5d934de615812b697132e767dea0f1e9e2                502   \n",
       "3  85d5c9da7cddd8109ad32a6c348fe2bb10bf99f2                699   \n",
       "4  ddc89c837a6933639de75f28171057060bd322df                850   \n",
       "5  a596384ca70664af4c5fac9f935cff186b8e8bc0                645   \n",
       "6  abec3e525ab40e45975c91d4fa2bc7b318d93de4                822   \n",
       "7  336b42483e6a17f48eb040a251b5d6e64d1351a9                376   \n",
       "8  53a417796c777851003b3f2431e8eef5625ec15b                501   \n",
       "9  b89d09fc7719cb3c4a87e4a61cb87b3465e9d8ff                684   \n",
       "\n",
       "  estado_residencia genero  idade  nivel_estabilidade  saldo_conta  \\\n",
       "0                SC      F     42                   2         0.00   \n",
       "1                RS      F     41                   1     83807.86   \n",
       "2                SC      F     42                   8    159660.80   \n",
       "3                SC      F     39                   1         0.00   \n",
       "4                RS      F     43                   2    125510.82   \n",
       "5                RS      M     44                   8    113755.78   \n",
       "6                SC      M     50                   7         0.00   \n",
       "7                PR      F     29                   4    115046.74   \n",
       "8                SC      M     44                   4    142051.07   \n",
       "9                SC      M     27                   2    134603.88   \n",
       "\n",
       "   numero_produtos  possui_cartao_de_credito  membro_ativo  \n",
       "0                1                         1             1  \n",
       "1                1                         0             1  \n",
       "2                3                         1             0  \n",
       "3                2                         0             0  \n",
       "4                1                         1             1  \n",
       "5                2                         1             0  \n",
       "6                2                         1             1  \n",
       "7                4                         1             0  \n",
       "8                2                         0             1  \n",
       "9                1                         1             1  "
      ]
     },
     "execution_count": 2,
     "metadata": {},
     "output_type": "execute_result"
    }
   ],
   "source": [
    "credito_df = pd.read_csv('desafio1.csv')\n",
    "credito_df.head(10)"
   ]
  },
  {
   "cell_type": "code",
   "execution_count": 3,
   "metadata": {},
   "outputs": [
    {
     "name": "stdout",
     "output_type": "stream",
     "text": [
      "<class 'pandas.core.frame.DataFrame'>\n",
      "RangeIndex: 7000 entries, 0 to 6999\n",
      "Data columns (total 12 columns):\n",
      " #   Column                    Non-Null Count  Dtype  \n",
      "---  ------                    --------------  -----  \n",
      " 0   RowNumber                 7000 non-null   int64  \n",
      " 1   id                        7000 non-null   object \n",
      " 2   sobrenome                 7000 non-null   object \n",
      " 3   pontuacao_credito         7000 non-null   int64  \n",
      " 4   estado_residencia         7000 non-null   object \n",
      " 5   genero                    7000 non-null   object \n",
      " 6   idade                     7000 non-null   int64  \n",
      " 7   nivel_estabilidade        7000 non-null   int64  \n",
      " 8   saldo_conta               7000 non-null   float64\n",
      " 9   numero_produtos           7000 non-null   int64  \n",
      " 10  possui_cartao_de_credito  7000 non-null   int64  \n",
      " 11  membro_ativo              7000 non-null   int64  \n",
      "dtypes: float64(1), int64(7), object(4)\n",
      "memory usage: 656.4+ KB\n"
     ]
    }
   ],
   "source": [
    "credito_df.info()"
   ]
  },
  {
   "cell_type": "code",
   "execution_count": 4,
   "metadata": {
    "scrolled": true
   },
   "outputs": [
    {
     "data": {
      "text/plain": [
       "SC    3519\n",
       "RS    1750\n",
       "PR    1731\n",
       "Name: estado_residencia, dtype: int64"
      ]
     },
     "execution_count": 4,
     "metadata": {},
     "output_type": "execute_result"
    }
   ],
   "source": [
    "credito_df['estado_residencia'].value_counts()"
   ]
  },
  {
   "cell_type": "markdown",
   "metadata": {},
   "source": [
    "### Identificando a Moda"
   ]
  },
  {
   "cell_type": "code",
   "execution_count": 5,
   "metadata": {
    "scrolled": true
   },
   "outputs": [],
   "source": [
    "#credito_df.groupby('estado_residencia')['pontuacao_credito'].mode()"
   ]
  },
  {
   "cell_type": "code",
   "execution_count": 6,
   "metadata": {},
   "outputs": [
    {
     "data": {
      "text/html": [
       "<div>\n",
       "<style scoped>\n",
       "    .dataframe tbody tr th:only-of-type {\n",
       "        vertical-align: middle;\n",
       "    }\n",
       "\n",
       "    .dataframe tbody tr th {\n",
       "        vertical-align: top;\n",
       "    }\n",
       "\n",
       "    .dataframe thead th {\n",
       "        text-align: right;\n",
       "    }\n",
       "</style>\n",
       "<table border=\"1\" class=\"dataframe\">\n",
       "  <thead>\n",
       "    <tr style=\"text-align: right;\">\n",
       "      <th></th>\n",
       "      <th>RowNumber</th>\n",
       "      <th>id</th>\n",
       "      <th>sobrenome</th>\n",
       "      <th>pontuacao_credito</th>\n",
       "      <th>genero</th>\n",
       "      <th>idade</th>\n",
       "      <th>nivel_estabilidade</th>\n",
       "      <th>saldo_conta</th>\n",
       "      <th>numero_produtos</th>\n",
       "      <th>possui_cartao_de_credito</th>\n",
       "      <th>membro_ativo</th>\n",
       "    </tr>\n",
       "    <tr>\n",
       "      <th>estado_residencia</th>\n",
       "      <th></th>\n",
       "      <th></th>\n",
       "      <th></th>\n",
       "      <th></th>\n",
       "      <th></th>\n",
       "      <th></th>\n",
       "      <th></th>\n",
       "      <th></th>\n",
       "      <th></th>\n",
       "      <th></th>\n",
       "      <th></th>\n",
       "    </tr>\n",
       "  </thead>\n",
       "  <tbody>\n",
       "    <tr>\n",
       "      <th>PR</th>\n",
       "      <td>8</td>\n",
       "      <td>004b96cebe8764616da04fc877236d6fefa5f68e</td>\n",
       "      <td>7347fd3b86c52be283f3ca0bb60ae91abe5f3069</td>\n",
       "      <td>850</td>\n",
       "      <td>M</td>\n",
       "      <td>37</td>\n",
       "      <td>9</td>\n",
       "      <td>130170.82</td>\n",
       "      <td>1</td>\n",
       "      <td>1</td>\n",
       "      <td>0</td>\n",
       "    </tr>\n",
       "    <tr>\n",
       "      <th>RS</th>\n",
       "      <td>2</td>\n",
       "      <td>002ba5177a58900b2ea321f708de21dd59645dd7</td>\n",
       "      <td>2ad0c93dcf651c0afe5e5aa7a8778f7c3ec5769e</td>\n",
       "      <td>850</td>\n",
       "      <td>M</td>\n",
       "      <td>35</td>\n",
       "      <td>8</td>\n",
       "      <td>0.00</td>\n",
       "      <td>1</td>\n",
       "      <td>1</td>\n",
       "      <td>1</td>\n",
       "    </tr>\n",
       "    <tr>\n",
       "      <th>SC</th>\n",
       "      <td>1</td>\n",
       "      <td>001acea53bf2dba35bef7e61ca2ead7792aab9c1</td>\n",
       "      <td>96bcf8c98f94b6ace4a4b716cf0e3b32743a08b1</td>\n",
       "      <td>850</td>\n",
       "      <td>M</td>\n",
       "      <td>37</td>\n",
       "      <td>7</td>\n",
       "      <td>0.00</td>\n",
       "      <td>1</td>\n",
       "      <td>1</td>\n",
       "      <td>1</td>\n",
       "    </tr>\n",
       "  </tbody>\n",
       "</table>\n",
       "</div>"
      ],
      "text/plain": [
       "                   RowNumber                                        id  \\\n",
       "estado_residencia                                                        \n",
       "PR                         8  004b96cebe8764616da04fc877236d6fefa5f68e   \n",
       "RS                         2  002ba5177a58900b2ea321f708de21dd59645dd7   \n",
       "SC                         1  001acea53bf2dba35bef7e61ca2ead7792aab9c1   \n",
       "\n",
       "                                                  sobrenome  \\\n",
       "estado_residencia                                             \n",
       "PR                 7347fd3b86c52be283f3ca0bb60ae91abe5f3069   \n",
       "RS                 2ad0c93dcf651c0afe5e5aa7a8778f7c3ec5769e   \n",
       "SC                 96bcf8c98f94b6ace4a4b716cf0e3b32743a08b1   \n",
       "\n",
       "                   pontuacao_credito genero  idade  nivel_estabilidade  \\\n",
       "estado_residencia                                                        \n",
       "PR                               850      M     37                   9   \n",
       "RS                               850      M     35                   8   \n",
       "SC                               850      M     37                   7   \n",
       "\n",
       "                   saldo_conta  numero_produtos  possui_cartao_de_credito  \\\n",
       "estado_residencia                                                           \n",
       "PR                   130170.82                1                         1   \n",
       "RS                        0.00                1                         1   \n",
       "SC                        0.00                1                         1   \n",
       "\n",
       "                   membro_ativo  \n",
       "estado_residencia                \n",
       "PR                            0  \n",
       "RS                            1  \n",
       "SC                            1  "
      ]
     },
     "execution_count": 6,
     "metadata": {},
     "output_type": "execute_result"
    }
   ],
   "source": [
    "import scipy\n",
    "from scipy import stats\n",
    "x = credito_df['pontuacao_credito']\n",
    "credito_df.groupby('estado_residencia').agg(lambda x: scipy.stats.mode(x)[0])"
   ]
  },
  {
   "cell_type": "code",
   "execution_count": 7,
   "metadata": {},
   "outputs": [
    {
     "data": {
      "text/plain": [
       "850"
      ]
     },
     "execution_count": 7,
     "metadata": {},
     "output_type": "execute_result"
    }
   ],
   "source": [
    "SC_credito = credito_df.query('estado_residencia == \"SC\"')\n",
    "mode_SC = int(SC_credito.pontuacao_credito.mode())\n",
    "mode_SC"
   ]
  },
  {
   "cell_type": "code",
   "execution_count": 8,
   "metadata": {},
   "outputs": [
    {
     "data": {
      "text/plain": [
       "850"
      ]
     },
     "execution_count": 8,
     "metadata": {},
     "output_type": "execute_result"
    }
   ],
   "source": [
    "RS_credito = credito_df.query('estado_residencia == \"RS\"')\n",
    "mode_RS = int(RS_credito.pontuacao_credito.mode())\n",
    "mode_RS"
   ]
  },
  {
   "cell_type": "code",
   "execution_count": 9,
   "metadata": {},
   "outputs": [
    {
     "data": {
      "text/plain": [
       "850"
      ]
     },
     "execution_count": 9,
     "metadata": {},
     "output_type": "execute_result"
    }
   ],
   "source": [
    "PR_credito = credito_df.query('estado_residencia == \"PR\"')\n",
    "mode_PR = int(PR_credito.pontuacao_credito.mode())\n",
    "mode_PR"
   ]
  },
  {
   "cell_type": "markdown",
   "metadata": {},
   "source": [
    "### Identificando a Mediana"
   ]
  },
  {
   "cell_type": "code",
   "execution_count": 10,
   "metadata": {},
   "outputs": [
    {
     "data": {
      "text/plain": [
       "estado_residencia\n",
       "PR    650\n",
       "RS    650\n",
       "SC    653\n",
       "Name: pontuacao_credito, dtype: int64"
      ]
     },
     "execution_count": 10,
     "metadata": {},
     "output_type": "execute_result"
    }
   ],
   "source": [
    "Mediana = credito_df.groupby('estado_residencia')['pontuacao_credito'].median()\n",
    "Mediana"
   ]
  },
  {
   "cell_type": "code",
   "execution_count": 11,
   "metadata": {},
   "outputs": [
    {
     "data": {
      "text/plain": [
       "pandas.core.series.Series"
      ]
     },
     "execution_count": 11,
     "metadata": {},
     "output_type": "execute_result"
    }
   ],
   "source": [
    "type(Mediana)"
   ]
  },
  {
   "cell_type": "code",
   "execution_count": 12,
   "metadata": {},
   "outputs": [
    {
     "data": {
      "text/plain": [
       "650"
      ]
     },
     "execution_count": 12,
     "metadata": {},
     "output_type": "execute_result"
    }
   ],
   "source": [
    "Mediana[1]"
   ]
  },
  {
   "cell_type": "markdown",
   "metadata": {},
   "source": [
    "### Identificando a Média"
   ]
  },
  {
   "cell_type": "code",
   "execution_count": 13,
   "metadata": {},
   "outputs": [
    {
     "data": {
      "text/plain": [
       "estado_residencia\n",
       "PR    648.961294\n",
       "RS    651.105143\n",
       "SC    649.537653\n",
       "Name: pontuacao_credito, dtype: float64"
      ]
     },
     "execution_count": 13,
     "metadata": {},
     "output_type": "execute_result"
    }
   ],
   "source": [
    "Media = credito_df.groupby('estado_residencia')['pontuacao_credito'].mean()\n",
    "Media"
   ]
  },
  {
   "cell_type": "markdown",
   "metadata": {},
   "source": [
    "### Identificando o Desvio Padrão"
   ]
  },
  {
   "cell_type": "code",
   "execution_count": 14,
   "metadata": {},
   "outputs": [
    {
     "data": {
      "text/plain": [
       "estado_residencia\n",
       "PR    98.607186\n",
       "RS    95.136598\n",
       "SC    97.233493\n",
       "Name: pontuacao_credito, dtype: float64"
      ]
     },
     "execution_count": 14,
     "metadata": {},
     "output_type": "execute_result"
    }
   ],
   "source": [
    "D_Padrao = credito_df.groupby('estado_residencia')['pontuacao_credito'].std()\n",
    "D_Padrao"
   ]
  },
  {
   "cell_type": "markdown",
   "metadata": {},
   "source": [
    "### Atribuindo os valores ao arquivo JSON"
   ]
  },
  {
   "cell_type": "code",
   "execution_count": 15,
   "metadata": {},
   "outputs": [],
   "source": [
    "#Sub_Json = pd.read_json('submission.json')\n",
    "#Sub_Json\n",
    "\n",
    "#Sub_Json = {'SC': {'moda':mode_SC, 'mediana':Mediana[0], 'media':Media[0].round(1), 'desvio_padrao':D_Padrao[0].round(1)}, \n",
    "#           'RS': {'moda':mode_RS, 'mediana':Mediana[1], 'media':Media[1].round(1), 'desvio_padrao':D_Padrao[1].round(1)}, \n",
    "#           'PR': {'moda':mode_PR, 'mediana':Mediana[2], 'media':Media[2].round(1), 'desvio_padrao':D_Padrao[2].round(1)}}\n",
    "#Sub_Json"
   ]
  },
  {
   "cell_type": "code",
   "execution_count": 16,
   "metadata": {},
   "outputs": [
    {
     "data": {
      "text/plain": [
       "{'SC': {'moda': 850,\n",
       "  'mediana': 650,\n",
       "  'media': 648.9612940496822,\n",
       "  'desvio_padrao': 98.60718591309755},\n",
       " 'RS': {'moda': 850,\n",
       "  'mediana': 650,\n",
       "  'media': 651.1051428571428,\n",
       "  'desvio_padrao': 95.1365984138358},\n",
       " 'PR': {'moda': 850,\n",
       "  'mediana': 653,\n",
       "  'media': 649.5376527422563,\n",
       "  'desvio_padrao': 97.23349279343314}}"
      ]
     },
     "execution_count": 16,
     "metadata": {},
     "output_type": "execute_result"
    }
   ],
   "source": [
    "Sub_Json = {'SC': {'moda':mode_SC, 'mediana':Mediana[0], 'media':Media[0], 'desvio_padrao':D_Padrao[0]}, \n",
    "            'RS': {'moda':mode_RS, 'mediana':Mediana[1], 'media':Media[1], 'desvio_padrao':D_Padrao[1]}, \n",
    "            'PR': {'moda':mode_PR, 'mediana':Mediana[2], 'media':Media[2], 'desvio_padrao':D_Padrao[2]}}\n",
    "Sub_Json"
   ]
  },
  {
   "cell_type": "code",
   "execution_count": 17,
   "metadata": {},
   "outputs": [
    {
     "data": {
      "text/plain": [
       "dict"
      ]
     },
     "execution_count": 17,
     "metadata": {},
     "output_type": "execute_result"
    }
   ],
   "source": [
    "type(Sub_Json)"
   ]
  },
  {
   "cell_type": "code",
   "execution_count": 18,
   "metadata": {},
   "outputs": [
    {
     "data": {
      "text/html": [
       "<div>\n",
       "<style scoped>\n",
       "    .dataframe tbody tr th:only-of-type {\n",
       "        vertical-align: middle;\n",
       "    }\n",
       "\n",
       "    .dataframe tbody tr th {\n",
       "        vertical-align: top;\n",
       "    }\n",
       "\n",
       "    .dataframe thead th {\n",
       "        text-align: right;\n",
       "    }\n",
       "</style>\n",
       "<table border=\"1\" class=\"dataframe\">\n",
       "  <thead>\n",
       "    <tr style=\"text-align: right;\">\n",
       "      <th></th>\n",
       "      <th>SC</th>\n",
       "      <th>RS</th>\n",
       "      <th>PR</th>\n",
       "    </tr>\n",
       "  </thead>\n",
       "  <tbody>\n",
       "    <tr>\n",
       "      <th>moda</th>\n",
       "      <td>850.000000</td>\n",
       "      <td>850.000000</td>\n",
       "      <td>850.000000</td>\n",
       "    </tr>\n",
       "    <tr>\n",
       "      <th>mediana</th>\n",
       "      <td>650.000000</td>\n",
       "      <td>650.000000</td>\n",
       "      <td>653.000000</td>\n",
       "    </tr>\n",
       "    <tr>\n",
       "      <th>media</th>\n",
       "      <td>648.961294</td>\n",
       "      <td>651.105143</td>\n",
       "      <td>649.537653</td>\n",
       "    </tr>\n",
       "    <tr>\n",
       "      <th>desvio_padrao</th>\n",
       "      <td>98.607186</td>\n",
       "      <td>95.136598</td>\n",
       "      <td>97.233493</td>\n",
       "    </tr>\n",
       "  </tbody>\n",
       "</table>\n",
       "</div>"
      ],
      "text/plain": [
       "                       SC          RS          PR\n",
       "moda           850.000000  850.000000  850.000000\n",
       "mediana        650.000000  650.000000  653.000000\n",
       "media          648.961294  651.105143  649.537653\n",
       "desvio_padrao   98.607186   95.136598   97.233493"
      ]
     },
     "execution_count": 18,
     "metadata": {},
     "output_type": "execute_result"
    }
   ],
   "source": [
    "Json_DF = pd.DataFrame(Sub_Json)\n",
    "Json_DF"
   ]
  },
  {
   "cell_type": "code",
   "execution_count": 27,
   "metadata": {},
   "outputs": [],
   "source": [
    "G = Json_DF.T"
   ]
  },
  {
   "cell_type": "code",
   "execution_count": 28,
   "metadata": {},
   "outputs": [],
   "source": [
    "subimission_JSON = G.to_json('submission.json', orient='index')"
   ]
  },
  {
   "cell_type": "code",
   "execution_count": 20,
   "metadata": {},
   "outputs": [],
   "source": [
    "#import json\n",
    "#with open('submission.json', 'w') as outfile:\n",
    "  #  json.dump(Sub_Json, outfile)"
   ]
  },
  {
   "cell_type": "code",
   "execution_count": 21,
   "metadata": {},
   "outputs": [],
   "source": [
    "#SJ = pd.read_json('submission2.json')\n",
    "#SJ"
   ]
  },
  {
   "cell_type": "code",
   "execution_count": 22,
   "metadata": {
    "scrolled": true
   },
   "outputs": [],
   "source": [
    "#SJ.T"
   ]
  },
  {
   "cell_type": "code",
   "execution_count": 23,
   "metadata": {},
   "outputs": [],
   "source": [
    "#JSubm = Json_DF.round(decimals=1)\n",
    "#JSubm\n",
    "\n",
    "#Json_DF['SC'][0]"
   ]
  },
  {
   "cell_type": "code",
   "execution_count": 24,
   "metadata": {
    "scrolled": true
   },
   "outputs": [
    {
     "data": {
      "text/plain": [
       "\"Sub_Json['SC'][0] = mode_SC\\nSub_Json['RS'][0] = mode_RS\\nSub_Json['PR'][0] = mode_PR\\nSub_Json['PR'][1] = Mediana[0]\\nSub_Json['RS'][1] = Mediana[1]\\nSub_Json['SC'][1] = Mediana[2]\\nSub_Json['PR'][2] = Media[0]\\nSub_Json['RS'][2] = Media[1]\\nSub_Json['SC'][2] = Media[2]\\nSub_Json['PR'][3] = D_Padrao[0]\\nSub_Json['RS'][3] = D_Padrao[1]\\nSub_Json['SC'][3] = D_Padrao[2]\\nSub_Json\""
      ]
     },
     "execution_count": 24,
     "metadata": {},
     "output_type": "execute_result"
    }
   ],
   "source": [
    "\"\"\"Sub_Json['SC'][0] = mode_SC\n",
    "Sub_Json['RS'][0] = mode_RS\n",
    "Sub_Json['PR'][0] = mode_PR\n",
    "Sub_Json['PR'][1] = Mediana[0]\n",
    "Sub_Json['RS'][1] = Mediana[1]\n",
    "Sub_Json['SC'][1] = Mediana[2]\n",
    "Sub_Json['PR'][2] = Media[0]\n",
    "Sub_Json['RS'][2] = Media[1]\n",
    "Sub_Json['SC'][2] = Media[2]\n",
    "Sub_Json['PR'][3] = D_Padrao[0]\n",
    "Sub_Json['RS'][3] = D_Padrao[1]\n",
    "Sub_Json['SC'][3] = D_Padrao[2]\n",
    "Sub_Json\"\"\""
   ]
  },
  {
   "cell_type": "code",
   "execution_count": 25,
   "metadata": {},
   "outputs": [
    {
     "data": {
      "text/plain": [
       "\"Sub_Json['SC'] = Sub_Json['SC'].astype(float)\\nSub_Json['RS'] = Sub_Json['RS'].astype(float)\\nSub_Json['PR'] = Sub_Json['PR'].astype(float)\\nSub_Json\""
      ]
     },
     "execution_count": 25,
     "metadata": {},
     "output_type": "execute_result"
    }
   ],
   "source": [
    "\"\"\"Sub_Json['SC'] = Sub_Json['SC'].astype(float)\n",
    "Sub_Json['RS'] = Sub_Json['RS'].astype(float)\n",
    "Sub_Json['PR'] = Sub_Json['PR'].astype(float)\n",
    "Sub_Json\"\"\""
   ]
  },
  {
   "cell_type": "code",
   "execution_count": null,
   "metadata": {},
   "outputs": [],
   "source": []
  }
 ],
 "metadata": {
  "kernelspec": {
   "display_name": "Python 3",
   "language": "python",
   "name": "python3"
  },
  "language_info": {
   "codemirror_mode": {
    "name": "ipython",
    "version": 3
   },
   "file_extension": ".py",
   "mimetype": "text/x-python",
   "name": "python",
   "nbconvert_exporter": "python",
   "pygments_lexer": "ipython3",
   "version": "3.7.7"
  }
 },
 "nbformat": 4,
 "nbformat_minor": 2
}
